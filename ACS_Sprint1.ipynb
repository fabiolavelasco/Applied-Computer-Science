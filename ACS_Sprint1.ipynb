{
  "nbformat": 4,
  "nbformat_minor": 0,
  "metadata": {
    "colab": {
      "name": "ACS_Sprint1.ipynb",
      "provenance": []
    },
    "kernelspec": {
      "name": "python3",
      "display_name": "Python 3"
    },
    "language_info": {
      "name": "python"
    }
  },
  "cells": [
    {
      "cell_type": "markdown",
      "source": [
        "Sprint 1 - Applied Computer Science \n",
        "\n",
        "Simple Python functions "
      ],
      "metadata": {
        "id": "WARmqloTDJB9"
      }
    },
    {
      "cell_type": "code",
      "execution_count": null,
      "metadata": {
        "id": "VtLb6UHfCyUz"
      },
      "outputs": [],
      "source": [
        "def solution(arg1, arg2):\n",
        "    return arg1+arg2\n",
        "    "
      ]
    },
    {
      "cell_type": "code",
      "source": [
        "def solution(arg1, arg2):\n",
        "    return arg1*arg2"
      ],
      "metadata": {
        "id": "ClNxv_P4EAkC"
      },
      "execution_count": null,
      "outputs": []
    },
    {
      "cell_type": "code",
      "source": [
        "def solution(n):\n",
        "    x = n + 7\n",
        "    y = x / 2\n",
        "    result = y * 5\n",
        "    return result "
      ],
      "metadata": {
        "id": "xtXJJCQVEE3v"
      },
      "execution_count": null,
      "outputs": []
    },
    {
      "cell_type": "code",
      "source": [
        "def solution(n):\n",
        "    total = n * (n + 1)/2\n",
        "    return total "
      ],
      "metadata": {
        "id": "D-7hWsVHEIKZ"
      },
      "execution_count": null,
      "outputs": []
    },
    {
      "cell_type": "code",
      "source": [
        "def solution(birth_year, current_year):\n",
        "    x = current_year - birth_year\n",
        "    result = birth_year - x\n",
        "    return result "
      ],
      "metadata": {
        "id": "TWIlb3KAEK4t"
      },
      "execution_count": null,
      "outputs": []
    },
    {
      "cell_type": "code",
      "source": [
        "def solution(n, m):\n",
        "    total = (abs(n - m) + 1) * (n + m) / 2\n",
        "    return total "
      ],
      "metadata": {
        "id": "iISOHfnvENnw"
      },
      "execution_count": null,
      "outputs": []
    },
    {
      "cell_type": "markdown",
      "source": [
        "Sprint 1 Practice 2: Data Types, If-Then Statements"
      ],
      "metadata": {
        "id": "MW2gAJIUEYIc"
      }
    },
    {
      "cell_type": "code",
      "source": [
        "# Write a function that converts a string to an integer.\n",
        "def solution(s):\n",
        "    return int(s)"
      ],
      "metadata": {
        "id": "LWw36kHPEQUi"
      },
      "execution_count": null,
      "outputs": []
    },
    {
      "cell_type": "code",
      "source": [
        "# Write a function that converts a floating point number to a string.\n",
        "def solution(f):\n",
        "    return str(f)"
      ],
      "metadata": {
        "id": "P01gPki6I6wZ"
      },
      "execution_count": null,
      "outputs": []
    },
    {
      "cell_type": "code",
      "source": [
        "# Write a function that converts an integer to a floating point number.\n",
        "def solution(i):\n",
        "    return float(i)"
      ],
      "metadata": {
        "id": "N2B-Od1zJJ2T"
      },
      "execution_count": 9,
      "outputs": []
    },
    {
      "cell_type": "code",
      "source": [
        "# Write a function that converts a floating point number to a string with a \n",
        "# specific number of digits past the decimal place.\n",
        "def solution(f, places):\n",
        "    x = f\n",
        "    y = f\"{x:.{places}f}\"\n",
        "    return y"
      ],
      "metadata": {
        "id": "KN73Adp1KBT2"
      },
      "execution_count": 10,
      "outputs": []
    },
    {
      "cell_type": "code",
      "source": [
        "# Write a function that computes the absolute value of a number.\n",
        "def solution(x):\n",
        "    return abs(x)"
      ],
      "metadata": {
        "id": "U9Jh4bn7Lga2"
      },
      "execution_count": 11,
      "outputs": []
    },
    {
      "cell_type": "code",
      "source": [
        "# Write a function that returns true if a number is between 2 and 7, exclusive. \n",
        "# (That is, between 3 and 6, inclusive.)\n",
        "def solution(n):\n",
        "    if n > 2 and n < 7:\n",
        "        solution = True\n",
        "    else:\n",
        "        solution = False\n",
        "    return solution \n"
      ],
      "metadata": {
        "id": "OwcLvD_9LtrQ"
      },
      "execution_count": 1,
      "outputs": []
    },
    {
      "cell_type": "code",
      "source": [
        "# Write a function that converts an integer to a string.\n",
        "def solution(i):\n",
        "    return str(i)"
      ],
      "metadata": {
        "id": "6PBK1Hyvn_GC"
      },
      "execution_count": 2,
      "outputs": []
    },
    {
      "cell_type": "code",
      "source": [
        "# Write a function that converts a floating point number to an integer.\n",
        "def solution(f):\n",
        "    return int(f)"
      ],
      "metadata": {
        "id": "5uxNEB4koMAt"
      },
      "execution_count": 3,
      "outputs": []
    },
    {
      "cell_type": "code",
      "source": [
        "# Write a function that converts a string to a floating point number.\n",
        "def solution(s):\n",
        "    return float(s) "
      ],
      "metadata": {
        "id": "2GHG_1JIoXB9"
      },
      "execution_count": 4,
      "outputs": []
    },
    {
      "cell_type": "code",
      "source": [
        "# Normally, dividing by zero is a bad thing that will cause programs to crash. \n",
        "# Write a safer division function that returns the division of two numbers \n",
        "# (the numerator divided by the denominator) unless the denominator is 0, \n",
        "# in which case it should return 0 instead of crashing.\n",
        "\n",
        "def solution(numerator, denominator):\n",
        "    if denominator == 0:\n",
        "        solution = 0\n",
        "    else:\n",
        "        solution = numerator / denominator\n",
        "    return solution "
      ],
      "metadata": {
        "id": "2_azHoV4ohzT"
      },
      "execution_count": 5,
      "outputs": []
    },
    {
      "cell_type": "code",
      "source": [
        "# Return the larger of two numbers.\n",
        "# If they're the same, return either one.\n",
        "def solution(a, b):\n",
        "    if a > b:\n",
        "        solution = a\n",
        "    if b > a:\n",
        "        solution = b\n",
        "    else: \n",
        "        solution = a or b\n",
        "    return solution"
      ],
      "metadata": {
        "id": "ogDX_6K9plv8"
      },
      "execution_count": 6,
      "outputs": []
    },
    {
      "cell_type": "code",
      "source": [
        "# This function will analyze its input and return a string based on it.\n",
        "# If the input is 0, return \"none\".\n",
        "# If the input is 1, return \"one\".\n",
        "# If the input is 2, return \"two\".\n",
        "# If the input is anything else, return \"some\".\n",
        "\n",
        "def solution(n):\n",
        "    if n == 0:\n",
        "        solution = 'none'\n",
        "    elif n == 1:\n",
        "        solution = 'one'\n",
        "    elif n == 2:\n",
        "        solution = 'two'\n",
        "    else:\n",
        "        solution = 'some'\n",
        "    return solution "
      ],
      "metadata": {
        "id": "P8fuTAuHqTlJ"
      },
      "execution_count": 7,
      "outputs": []
    },
    {
      "cell_type": "code",
      "source": [
        "# Return the larger of three numbers.\n",
        "# If they're all the same, return any one.\n",
        "def solution(a, b, c):\n",
        "    if a > b and a > c:\n",
        "        solution = a\n",
        "    elif b > a and b > c:\n",
        "        solution = b\n",
        "    elif c > b and c > a:\n",
        "        solution = c\n",
        "    else:\n",
        "        solution = a or b or c\n",
        "    return solution "
      ],
      "metadata": {
        "id": "dXqMUOxOr87d"
      },
      "execution_count": 8,
      "outputs": []
    },
    {
      "cell_type": "code",
      "source": [
        "# Return the largest of six numbers. (without using max)\n",
        "def solution(a, b, c, d, e, f):\n",
        "    list = [a,b,c,d,e,f]\n",
        "    solution = sorted(list)[-1]\n",
        "    return solution \n"
      ],
      "metadata": {
        "id": "cuwXAMdnuKJN"
      },
      "execution_count": 10,
      "outputs": []
    },
    {
      "cell_type": "code",
      "source": [
        "# This function will run a set of tests on three numbers. \n",
        "# If the test passes, the function will return the string \"OK\". \n",
        "# Otherwise it returns \"NOK\".\n",
        "\n",
        "def solution(a, b, c):\n",
        "    if a > b and b <= c and (((a*3) > c) or (c <=a)):\n",
        "        return \"OK\"\n",
        "    else:\n",
        "        return \"NOK\""
      ],
      "metadata": {
        "id": "eAwzX8MeuRHK"
      },
      "execution_count": 11,
      "outputs": []
    },
    {
      "cell_type": "code",
      "source": [
        "# Write a function that takes an amount to withdraw from an account, \n",
        "# along with the current balance.\n",
        "#If there isn't enough in the account to make the withdrawal, return -1. \n",
        "# Otherwise return the remaining balance after the withdrawal.\n",
        "\n",
        "def solution(amount, balance):\n",
        "    if balance < amount:\n",
        "        return -1\n",
        "    else:\n",
        "        return balance - amount"
      ],
      "metadata": {
        "id": "_bNjDLBx03aJ"
      },
      "execution_count": 12,
      "outputs": []
    },
    {
      "cell_type": "code",
      "source": [
        ""
      ],
      "metadata": {
        "id": "CbAZUWq_2aDs"
      },
      "execution_count": null,
      "outputs": []
    }
  ]
}