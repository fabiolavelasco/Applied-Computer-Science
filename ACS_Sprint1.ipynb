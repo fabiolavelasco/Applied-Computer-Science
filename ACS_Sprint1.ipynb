{
  "nbformat": 4,
  "nbformat_minor": 0,
  "metadata": {
    "colab": {
      "name": "ACS_Sprint1.ipynb",
      "provenance": [],
      "authorship_tag": "ABX9TyMtE549f/859V9wMMqpWmrF"
    },
    "kernelspec": {
      "name": "python3",
      "display_name": "Python 3"
    },
    "language_info": {
      "name": "python"
    }
  },
  "cells": [
    {
      "cell_type": "markdown",
      "source": [
        "Sprint 1 - Applied Computer Science \n",
        "\n",
        "Simple Python functions "
      ],
      "metadata": {
        "id": "WARmqloTDJB9"
      }
    },
    {
      "cell_type": "code",
      "execution_count": null,
      "metadata": {
        "id": "VtLb6UHfCyUz"
      },
      "outputs": [],
      "source": [
        "def solution(arg1, arg2):\n",
        "    return arg1+arg2\n",
        "    "
      ]
    },
    {
      "cell_type": "code",
      "source": [
        "def solution(arg1, arg2):\n",
        "    return arg1*arg2"
      ],
      "metadata": {
        "id": "ClNxv_P4EAkC"
      },
      "execution_count": null,
      "outputs": []
    },
    {
      "cell_type": "code",
      "source": [
        "def solution(n):\n",
        "    x = n + 7\n",
        "    y = x / 2\n",
        "    result = y * 5\n",
        "    return result "
      ],
      "metadata": {
        "id": "xtXJJCQVEE3v"
      },
      "execution_count": null,
      "outputs": []
    },
    {
      "cell_type": "code",
      "source": [
        "def solution(n):\n",
        "    total = n * (n + 1)/2\n",
        "    return total "
      ],
      "metadata": {
        "id": "D-7hWsVHEIKZ"
      },
      "execution_count": null,
      "outputs": []
    },
    {
      "cell_type": "code",
      "source": [
        "def solution(birth_year, current_year):\n",
        "    x = current_year - birth_year\n",
        "    result = birth_year - x\n",
        "    return result "
      ],
      "metadata": {
        "id": "TWIlb3KAEK4t"
      },
      "execution_count": null,
      "outputs": []
    },
    {
      "cell_type": "code",
      "source": [
        "def solution(n, m):\n",
        "    total = (abs(n - m) + 1) * (n + m) / 2\n",
        "    return total "
      ],
      "metadata": {
        "id": "iISOHfnvENnw"
      },
      "execution_count": null,
      "outputs": []
    },
    {
      "cell_type": "markdown",
      "source": [
        "Sprint 1 Practice 2: Data Types, If-Then Statements"
      ],
      "metadata": {
        "id": "MW2gAJIUEYIc"
      }
    },
    {
      "cell_type": "code",
      "source": [
        "# Write a function that converts a string to an integer.\n",
        "def solution(s):\n",
        "    return int(s)"
      ],
      "metadata": {
        "id": "LWw36kHPEQUi"
      },
      "execution_count": null,
      "outputs": []
    },
    {
      "cell_type": "code",
      "source": [
        "# Write a function that converts a floating point number to a string.\n",
        "def solution(f):\n",
        "    return str(f)"
      ],
      "metadata": {
        "id": "P01gPki6I6wZ"
      },
      "execution_count": null,
      "outputs": []
    },
    {
      "cell_type": "code",
      "source": [
        "# Write a function that converts an integer to a floating point number.\n",
        "def solution(i):\n",
        "    return float(i)"
      ],
      "metadata": {
        "id": "N2B-Od1zJJ2T"
      },
      "execution_count": null,
      "outputs": []
    },
    {
      "cell_type": "code",
      "source": [
        "# Write a function that converts a floating point number to a string with a \n",
        "# specific number of digits past the decimal place.\n",
        "def solution(f, places):\n",
        "    x = f\n",
        "    y = f\"{x:.{places}f}\"\n",
        "    return y"
      ],
      "metadata": {
        "id": "KN73Adp1KBT2"
      },
      "execution_count": null,
      "outputs": []
    },
    {
      "cell_type": "code",
      "source": [
        "# Write a function that computes the absolute value of a number.\n",
        "def solution(x):\n",
        "    return abs(x)"
      ],
      "metadata": {
        "id": "U9Jh4bn7Lga2"
      },
      "execution_count": null,
      "outputs": []
    },
    {
      "cell_type": "code",
      "source": [
        "# Write a function that returns true if a number is between 2 and 7, exclusive. \n",
        "# (That is, between 3 and 6, inclusive.)\n",
        "def solution(n):\n",
        "    if n > 2 and n < 7:\n",
        "        solution = True\n",
        "    else:\n",
        "        solution = False\n",
        "    return solution \n"
      ],
      "metadata": {
        "id": "OwcLvD_9LtrQ"
      },
      "execution_count": null,
      "outputs": []
    },
    {
      "cell_type": "code",
      "source": [
        "# Write a function that converts an integer to a string.\n",
        "def solution(i):\n",
        "    return str(i)"
      ],
      "metadata": {
        "id": "6PBK1Hyvn_GC"
      },
      "execution_count": null,
      "outputs": []
    },
    {
      "cell_type": "code",
      "source": [
        "# Write a function that converts a floating point number to an integer.\n",
        "def solution(f):\n",
        "    return int(f)"
      ],
      "metadata": {
        "id": "5uxNEB4koMAt"
      },
      "execution_count": null,
      "outputs": []
    },
    {
      "cell_type": "code",
      "source": [
        "# Write a function that converts a string to a floating point number.\n",
        "def solution(s):\n",
        "    return float(s) "
      ],
      "metadata": {
        "id": "2GHG_1JIoXB9"
      },
      "execution_count": null,
      "outputs": []
    },
    {
      "cell_type": "code",
      "source": [
        "# Normally, dividing by zero is a bad thing that will cause programs to crash. \n",
        "# Write a safer division function that returns the division of two numbers \n",
        "# (the numerator divided by the denominator) unless the denominator is 0, \n",
        "# in which case it should return 0 instead of crashing.\n",
        "\n",
        "def solution(numerator, denominator):\n",
        "    if denominator == 0:\n",
        "        solution = 0\n",
        "    else:\n",
        "        solution = numerator / denominator\n",
        "    return solution "
      ],
      "metadata": {
        "id": "2_azHoV4ohzT"
      },
      "execution_count": null,
      "outputs": []
    },
    {
      "cell_type": "code",
      "source": [
        "# Return the larger of two numbers.\n",
        "# If they're the same, return either one.\n",
        "def solution(a, b):\n",
        "    if a > b:\n",
        "        solution = a\n",
        "    if b > a:\n",
        "        solution = b\n",
        "    else: \n",
        "        solution = a or b\n",
        "    return solution"
      ],
      "metadata": {
        "id": "ogDX_6K9plv8"
      },
      "execution_count": null,
      "outputs": []
    },
    {
      "cell_type": "code",
      "source": [
        "# This function will analyze its input and return a string based on it.\n",
        "# If the input is 0, return \"none\".\n",
        "# If the input is 1, return \"one\".\n",
        "# If the input is 2, return \"two\".\n",
        "# If the input is anything else, return \"some\".\n",
        "\n",
        "def solution(n):\n",
        "    if n == 0:\n",
        "        solution = 'none'\n",
        "    elif n == 1:\n",
        "        solution = 'one'\n",
        "    elif n == 2:\n",
        "        solution = 'two'\n",
        "    else:\n",
        "        solution = 'some'\n",
        "    return solution "
      ],
      "metadata": {
        "id": "P8fuTAuHqTlJ"
      },
      "execution_count": null,
      "outputs": []
    },
    {
      "cell_type": "code",
      "source": [
        "# Return the larger of three numbers.\n",
        "# If they're all the same, return any one.\n",
        "def solution(a, b, c):\n",
        "    if a > b and a > c:\n",
        "        solution = a\n",
        "    elif b > a and b > c:\n",
        "        solution = b\n",
        "    elif c > b and c > a:\n",
        "        solution = c\n",
        "    else:\n",
        "        solution = a or b or c\n",
        "    return solution "
      ],
      "metadata": {
        "id": "dXqMUOxOr87d"
      },
      "execution_count": null,
      "outputs": []
    },
    {
      "cell_type": "code",
      "source": [
        "# Return the largest of six numbers. (without using max)\n",
        "def solution(a, b, c, d, e, f):\n",
        "    list = [a,b,c,d,e,f]\n",
        "    solution = sorted(list)[-1]\n",
        "    return solution \n"
      ],
      "metadata": {
        "id": "cuwXAMdnuKJN"
      },
      "execution_count": null,
      "outputs": []
    },
    {
      "cell_type": "code",
      "source": [
        "# This function will run a set of tests on three numbers. \n",
        "# If the test passes, the function will return the string \"OK\". \n",
        "# Otherwise it returns \"NOK\".\n",
        "\n",
        "def solution(a, b, c):\n",
        "    if a > b and b <= c and (((a*3) > c) or (c <=a)):\n",
        "        return \"OK\"\n",
        "    else:\n",
        "        return \"NOK\""
      ],
      "metadata": {
        "id": "eAwzX8MeuRHK"
      },
      "execution_count": null,
      "outputs": []
    },
    {
      "cell_type": "code",
      "source": [
        "# Write a function that takes an amount to withdraw from an account, \n",
        "# along with the current balance.\n",
        "#If there isn't enough in the account to make the withdrawal, return -1. \n",
        "# Otherwise return the remaining balance after the withdrawal.\n",
        "\n",
        "def solution(amount, balance):\n",
        "    if balance < amount:\n",
        "        return -1\n",
        "    else:\n",
        "        return balance - amount"
      ],
      "metadata": {
        "id": "_bNjDLBx03aJ"
      },
      "execution_count": null,
      "outputs": []
    },
    {
      "cell_type": "markdown",
      "source": [
        "Strings and For Loops"
      ],
      "metadata": {
        "id": "C8U6hiuhNUvu"
      }
    },
    {
      "cell_type": "code",
      "source": [
        "# Compute the factorial of an integer n. This is commonly written as n!, \n",
        "# which is read as \"n factorial\".\n",
        "def solution(n):\n",
        "    total = 1\n",
        "    for x in range(1, n+1):\n",
        "        total *= x\n",
        "    return total"
      ],
      "metadata": {
        "id": "CbAZUWq_2aDs"
      },
      "execution_count": 1,
      "outputs": []
    },
    {
      "cell_type": "code",
      "source": [
        "# Compute the product of all numbers from a to b, inclusive.\n",
        "def solution(a, b):\n",
        "    total = 1\n",
        "    for x in range(a, b+1):\n",
        "        total *= x\n",
        "    return total"
      ],
      "metadata": {
        "id": "9ThL-IaENjI2"
      },
      "execution_count": 2,
      "outputs": []
    },
    {
      "cell_type": "code",
      "source": [
        "# Return the length of a string.\n",
        "def solution(s):\n",
        "    return len(s)"
      ],
      "metadata": {
        "id": "_zQougMSQAIn"
      },
      "execution_count": 3,
      "outputs": []
    },
    {
      "cell_type": "code",
      "source": [
        "# Return the character at index n in a string s.\n",
        "# If the index is out of range of the length of the string, return the string \"none\". \n",
        "# Otherwise, return the character at that index.\n",
        "def solution(s, n):\n",
        "    if n in range (0, len(s)):\n",
        "        return s[n]\n",
        "    else:\n",
        "        return \"none\""
      ],
      "metadata": {
        "id": "D9Mv1ggLQLAg"
      },
      "execution_count": 4,
      "outputs": []
    },
    {
      "cell_type": "code",
      "source": [
        "# Return an uppercase version of the input string.\n",
        "def solution(s):\n",
        "    return s.upper()"
      ],
      "metadata": {
        "id": "1lEK5acmQjuY"
      },
      "execution_count": 5,
      "outputs": []
    },
    {
      "cell_type": "code",
      "source": [
        "# Return true if a string is all lowercase.\n",
        "def solution(s):\n",
        "    return s.islower()"
      ],
      "metadata": {
        "id": "byDeW0MyQ2bZ"
      },
      "execution_count": 6,
      "outputs": []
    },
    {
      "cell_type": "code",
      "source": [
        "# Count the number of occurrences of a letter in a string.\n",
        "def solution(s, letter):\n",
        "    count = 0\n",
        "    for x in s:\n",
        "        if x == letter:\n",
        "            count += 1\n",
        "    return count"
      ],
      "metadata": {
        "id": "aKajdpR-RDv0"
      },
      "execution_count": 7,
      "outputs": []
    },
    {
      "cell_type": "code",
      "source": [
        "# Given a number, return the number of digits.\n",
        "def solution(n):\n",
        "    return len(str(n))"
      ],
      "metadata": {
        "id": "tfu4eo-uU8WN"
      },
      "execution_count": 8,
      "outputs": []
    },
    {
      "cell_type": "code",
      "source": [
        "# Return the index of the last character in a string. If the string is empty, return -1.\n",
        "def solution(s):\n",
        "    if len(s) > 0:\n",
        "        return len(s) - 1\n",
        "    else:\n",
        "        return -1"
      ],
      "metadata": {
        "id": "zzEKJbpOXdH1"
      },
      "execution_count": 9,
      "outputs": []
    },
    {
      "cell_type": "code",
      "source": [
        "# Return the last character in a string. If the string is empty, return \"none\".\n",
        "def solution(s):\n",
        "    if len(s) > 0:\n",
        "        return s[-1]\n",
        "    else:\n",
        "        return 'none'"
      ],
      "metadata": {
        "id": "3mn1Lhl8XuZx"
      },
      "execution_count": 10,
      "outputs": []
    },
    {
      "cell_type": "code",
      "source": [
        "# Return true if the first and second characters in the string are equal.\n",
        "def solution(s):\n",
        "    if s[0] == s[1]:\n",
        "        return True\n",
        "    else:\n",
        "        return False"
      ],
      "metadata": {
        "id": "XhEc1Pr3Ys7A"
      },
      "execution_count": 11,
      "outputs": []
    },
    {
      "cell_type": "code",
      "source": [
        "# Return true if the first and last characters in the string are equal.\n",
        "def solution(s):\n",
        "    if s[0] == s[-1]:\n",
        "        return True\n",
        "    else:\n",
        "        return False"
      ],
      "metadata": {
        "id": "k5GEzLC7ZDvW"
      },
      "execution_count": 12,
      "outputs": []
    },
    {
      "cell_type": "code",
      "source": [
        "# Return true if the last two characters in the string are equal\n",
        "def solution(s):\n",
        "    if s[-1] == s[-2]:\n",
        "        return True\n",
        "    else:\n",
        "        return False"
      ],
      "metadata": {
        "id": "C_L9waOiZUKE"
      },
      "execution_count": 13,
      "outputs": []
    },
    {
      "cell_type": "code",
      "source": [
        "# Return a lowercase version of the input string.\n",
        "# Characters that are already lower case remain lowercase.\n",
        "# Characters that aren't letters are unchanged.\n",
        "def solution(s):\n",
        "    return s.lower()"
      ],
      "metadata": {
        "id": "KkatMF6iZjC8"
      },
      "execution_count": 14,
      "outputs": []
    },
    {
      "cell_type": "code",
      "source": [
        "# Return true if a string is all uppercase.\n",
        "def solution(s):\n",
        "    if s.isupper():\n",
        "        return True\n",
        "    else:\n",
        "        return False"
      ],
      "metadata": {
        "id": "tohhmWXRaac-"
      },
      "execution_count": 15,
      "outputs": []
    },
    {
      "cell_type": "code",
      "source": [
        "# For a given string, return a new string with asterisks (*) on each side of each letter.\n",
        "# If the string is empty, return an empty string.\n",
        "def solution(s):\n",
        "    string = \"\"\n",
        "    for char in s:\n",
        "        string += (\"*\" + char + \"*\")\n",
        "    return string"
      ],
      "metadata": {
        "id": "7OeocoNmazOh"
      },
      "execution_count": 16,
      "outputs": []
    },
    {
      "cell_type": "code",
      "source": [
        "# For a given string, return a new string with asterisks (*) on each side of each letter.\n",
        "# If the string is empty, return a single asterisks.\n",
        "def solution(s):\n",
        "    string = \"*\"\n",
        "    for char in s:\n",
        "        string += (char + \"*\")\n",
        "    return string"
      ],
      "metadata": {
        "id": "sv6WrFhFe4P2"
      },
      "execution_count": 17,
      "outputs": []
    },
    {
      "cell_type": "code",
      "source": [
        "# For a given string, return the letter that's highest in the alphabet.\n",
        "def solution(s):\n",
        "    return max(s)"
      ],
      "metadata": {
        "id": "z9PKrNGogB24"
      },
      "execution_count": 18,
      "outputs": []
    },
    {
      "cell_type": "code",
      "source": [
        "# Construct a string of n capital \"A\"s.\n",
        "# You must use a loop to solve this initially. After that, you can experiment \n",
        "# with other built-in string duplication methods.\n",
        "def solution(n):\n",
        "    string = ''\n",
        "    if n > 0:\n",
        "        string += ('A') * n\n",
        "    return string"
      ],
      "metadata": {
        "id": "Cr5mC-8ri4Xt"
      },
      "execution_count": 19,
      "outputs": []
    },
    {
      "cell_type": "markdown",
      "source": [
        "Arrays"
      ],
      "metadata": {
        "id": "t4t7QEN1lGAA"
      }
    },
    {
      "cell_type": "code",
      "source": [
        "# Write a function that returns the length of an array.\n",
        "def solution(a):\n",
        "    return len(a)"
      ],
      "metadata": {
        "id": "pDfsS1KIlIxL"
      },
      "execution_count": 1,
      "outputs": []
    },
    {
      "cell_type": "code",
      "source": [
        "# This function accepts an array and an index.\n",
        "# It should return the value at that index.\n",
        "# If the index is out of range, it should return -999. (Out of range means less than 0 or greater than the maximum index of the array.)\n",
        "def solution(a, index):\n",
        "    if index in range(len(a)):\n",
        "        return a[index]\n",
        "    else:\n",
        "        return -999"
      ],
      "metadata": {
        "id": "jFfJQjFilQ0s"
      },
      "execution_count": 2,
      "outputs": []
    },
    {
      "cell_type": "code",
      "source": [
        "# Write a function that prepends front and appends back to an array.\n",
        "def solution(a, front, back):\n",
        "    a.insert(0, front)\n",
        "    a.append(back)\n",
        "    return a \n",
        "  "
      ],
      "metadata": {
        "id": "F1tJHG60nkvH"
      },
      "execution_count": 3,
      "outputs": []
    },
    {
      "cell_type": "code",
      "source": [
        "# Write a function that deletes a value from an array a at index.\n",
        "def solution(a, index):\n",
        "    a.pop(index)\n",
        "    return a "
      ],
      "metadata": {
        "id": "4G3fpfZXokTr"
      },
      "execution_count": 4,
      "outputs": []
    },
    {
      "cell_type": "code",
      "source": [
        "# Given a number, return the number of digits.\n",
        "def solution(n):\n",
        "    count = 0\n",
        "    while n != 0:\n",
        "        n //= 10 # n = n // 10\n",
        "        count += 1\n",
        "    return count"
      ],
      "metadata": {
        "id": "VZD6RQI55sm_"
      },
      "execution_count": 5,
      "outputs": []
    },
    {
      "cell_type": "code",
      "source": [
        "# This function should start computing the product of\n",
        "# x * (x+1) * (x+2) * (x+3) * ...\n",
        "# until the product becomes evenly divisible by 7. Then it should stop and return the product.\n",
        "# If x is already divisible by 7, just return x.\n",
        "def solution(x):\n",
        "    n = x\n",
        "    total = x\n",
        "    while total % 7 != 0: # the mod % will only give you the remainder of a division. This has to be exactly divisible by 7 \n",
        "        n += 1 \n",
        "        total *= n\n",
        "    return total \n"
      ],
      "metadata": {
        "id": "2mbcFRKS5zuI"
      },
      "execution_count": 6,
      "outputs": []
    },
    {
      "cell_type": "code",
      "source": [
        "# Write a function that chops off the beginning and end of an array and puts them in a new array.\n",
        "# An array containing the original array and the new array should be returned.\n",
        "def solution(a):\n",
        "    b = []\n",
        "    c = a.pop(0)\n",
        "    d = a.pop(-1)\n",
        "    b.append(c)\n",
        "    b.append(d)\n",
        "    return a, b"
      ],
      "metadata": {
        "id": "ub-dXtAI5-Y2"
      },
      "execution_count": 7,
      "outputs": []
    },
    {
      "cell_type": "code",
      "source": [
        "# Write a function that inserts a new value in the middle of an array.\n",
        "# The middle index is the length of the array divided by 2, rounded down.\n",
        "def solution(a, x):\n",
        "    a.insert((len(a)//2), x)\n",
        "    return a "
      ],
      "metadata": {
        "id": "e9mhtBNzNCGo"
      },
      "execution_count": 8,
      "outputs": []
    },
    {
      "cell_type": "code",
      "source": [
        "# This function accepts an array and a value to search for. It should return true \n",
        "# if the value occurs anywhere in the array.\n",
        "def solution(a, v):\n",
        "    if v in a:\n",
        "        return True\n",
        "    else:\n",
        "        return False"
      ],
      "metadata": {
        "id": "nFwyc8LdPaTl"
      },
      "execution_count": 9,
      "outputs": []
    },
    {
      "cell_type": "code",
      "source": [
        "# This function accepts an array. It should return an array with members that are equal to those in the original array multiplied by 2.\n",
        "# You can modify the existing array and return it, or construct a new one.\n",
        "# If the input array is empty, an empty array should be returned.\n",
        "def solution(a):\n",
        "    n = []\n",
        "    for x in a:\n",
        "        n.append(x * 2)\n",
        "    return n"
      ],
      "metadata": {
        "id": "sE-qdlVfP5uS"
      },
      "execution_count": 10,
      "outputs": []
    },
    {
      "cell_type": "code",
      "source": [
        "# This function accepts an array. It should return the sum of all elements in the array.\n",
        "# If the input array is empty, return 0.\n",
        "def solution(a):\n",
        "    sum = 0\n",
        "    for x in a:\n",
        "        sum += x\n",
        "    return sum"
      ],
      "metadata": {
        "id": "7rFS3sWsXJNK"
      },
      "execution_count": 11,
      "outputs": []
    },
    {
      "cell_type": "code",
      "source": [
        "# Construct a string of n capital \"A\"s followed by a string of m capital \"B\"s.\n",
        "def solution(n, m):\n",
        "    return (n * \"A\") + (m * \"B\")"
      ],
      "metadata": {
        "id": "L6FH50ucYOZA"
      },
      "execution_count": 12,
      "outputs": []
    },
    {
      "cell_type": "code",
      "source": [
        "#Construct a string made from every other character in the input string.\n",
        "# The first character of the input string will be the first character in the output string.\n",
        "# If the input string is empty, return an empty string\n",
        "\n",
        "def solution(s):\n",
        "    return s[::2]"
      ],
      "metadata": {
        "id": "nl3X0gDSYWzw"
      },
      "execution_count": 13,
      "outputs": []
    },
    {
      "cell_type": "code",
      "source": [
        "# Construct a string made from every other character in the input string, excluding vowels.\n",
        "# The first character of the input string will be the first character in the output string.\n",
        "# If the input string is empty, return an empty string\n",
        "\n",
        "def solution(s):\n",
        "    # def solution(s):\n",
        "    # vowels = [\"a\", \"e\", \"i\", \"o\", \"u\"]\n",
        "    # newstring = s[::2]\n",
        "    # for x in newstring:\n",
        "    #     if x in vowels:\n",
        "    #         newstring = newstring.replace(x, \"\")\n",
        "    # return newstring\n",
        "    return \"\".join([i for i in s[::2] if i not in list('aeiou')])\n"
      ],
      "metadata": {
        "id": "dAInlhP5ZsSV"
      },
      "execution_count": 14,
      "outputs": []
    },
    {
      "cell_type": "code",
      "source": [
        "# Construct a string made from every other character in the input string, excluding vowels and capital letters.\n",
        "# The first character of the input string will be the first character in the output string.\n",
        "# If the input string is empty, return an empty string.\n",
        "def solution(s):\n",
        "    return \"\".join([i for i in s[::2] if i not in list('aeiou') and i.islower()])"
      ],
      "metadata": {
        "id": "UgmaQ09Zh0QB"
      },
      "execution_count": 15,
      "outputs": []
    },
    {
      "cell_type": "code",
      "source": [
        "# Given a number and a field width, return a string with that number padded with leading zeros.\n",
        "# The field width is the total number of digits in the result string, not the number of zeros.\n",
        "# If the width is smaller than the number of digits in the n, return a string containing only n.\n",
        "\n",
        "def solution(n, width):\n",
        "    return ((width - len(str(n))) * \"0\") + str(n)"
      ],
      "metadata": {
        "id": "EGlm2hmpnl9o"
      },
      "execution_count": 16,
      "outputs": []
    },
    {
      "cell_type": "code",
      "source": [
        "# Construct a string of p copies of n capital \"A\"s and m capital \"B\"s.\n",
        "def solution(p, n, m):\n",
        "    return p*((n*'A') + (m*'B'))"
      ],
      "metadata": {
        "id": "dWXfJCd4oAcq"
      },
      "execution_count": 17,
      "outputs": []
    },
    {
      "cell_type": "code",
      "source": [
        ""
      ],
      "metadata": {
        "id": "YC4hL6xwozkd"
      },
      "execution_count": null,
      "outputs": []
    }
  ]
}